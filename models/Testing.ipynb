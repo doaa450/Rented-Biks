{
 "cells": [
  {
   "cell_type": "code",
   "execution_count": 1,
   "metadata": {},
   "outputs": [],
   "source": [
    "import numpy as np\n",
    "import pandas\n",
    "import joblib"
   ]
  },
  {
   "cell_type": "code",
   "execution_count": 2,
   "metadata": {},
   "outputs": [],
   "source": [
    "model = joblib.load('model.h5')\n",
    "scaler = joblib.load('scaler.h5')"
   ]
  },
  {
   "cell_type": "code",
   "execution_count": 3,
   "metadata": {},
   "outputs": [],
   "source": [
    "x = ['temp', 'humidity', 'hour', 'is_rush_hour', 'month', 'season_Spring',\n",
    "       'season_Summer', 'season_Winter', 'weather_Mist', 'weather_Rainy',\n",
    "       'weather_Snowy', 'week_day_name_Monday', 'week_day_name_Saturday',\n",
    "       'week_day_name_Sunday', 'week_day_name_Thursday',\n",
    "       'week_day_name_Tuesday', 'week_day_name_Wednesday',\n",
    "       'peroid_of_day_Evening', 'peroid_of_day_Morning',\n",
    "       'peroid_of_day_Night']"
   ]
  },
  {
   "cell_type": "code",
   "execution_count": 4,
   "metadata": {},
   "outputs": [
    {
     "name": "stdout",
     "output_type": "stream",
     "text": [
      "temp: \n",
      "10\n",
      "humidity: \n",
      "20\n",
      "hour: \n",
      "5\n",
      "is_rush_hour: \n",
      "1\n",
      "month: \n",
      "6\n",
      "season_Spring: \n",
      "1\n",
      "season_Summer: \n",
      "0\n",
      "season_Winter: \n",
      "0\n",
      "weather_Mist: \n",
      "1\n",
      "weather_Rainy: \n",
      "0\n",
      "weather_Snowy: \n",
      "0\n",
      "week_day_name_Monday: \n",
      "0\n",
      "week_day_name_Saturday: \n",
      "1\n",
      "week_day_name_Sunday: \n",
      "0\n",
      "week_day_name_Thursday: \n",
      "0\n",
      "week_day_name_Tuesday: \n",
      "0\n",
      "week_day_name_Wednesday: \n",
      "0\n",
      "peroid_of_day_Evening: \n",
      "0\n",
      "peroid_of_day_Morning: \n",
      "0\n",
      "peroid_of_day_Night: \n",
      "1\n"
     ]
    }
   ],
   "source": [
    "custom_data = []\n",
    "for inp in x:\n",
    "    print(f'{inp}: ')\n",
    "    val = float(input())\n",
    "    custom_data.append(val)"
   ]
  },
  {
   "cell_type": "code",
   "execution_count": 5,
   "metadata": {},
   "outputs": [
    {
     "data": {
      "text/plain": [
       "[10.0,\n",
       " 20.0,\n",
       " 5.0,\n",
       " 1.0,\n",
       " 6.0,\n",
       " 1.0,\n",
       " 0.0,\n",
       " 0.0,\n",
       " 1.0,\n",
       " 0.0,\n",
       " 0.0,\n",
       " 0.0,\n",
       " 1.0,\n",
       " 0.0,\n",
       " 0.0,\n",
       " 0.0,\n",
       " 0.0,\n",
       " 0.0,\n",
       " 0.0,\n",
       " 1.0]"
      ]
     },
     "execution_count": 5,
     "metadata": {},
     "output_type": "execute_result"
    }
   ],
   "source": [
    "custom_data"
   ]
  },
  {
   "cell_type": "code",
   "execution_count": 7,
   "metadata": {},
   "outputs": [
    {
     "data": {
      "text/plain": [
       "array([129.20609], dtype=float32)"
      ]
     },
     "execution_count": 7,
     "metadata": {},
     "output_type": "execute_result"
    }
   ],
   "source": [
    "result = model.predict(scaler.transform([custom_data]))\n",
    "result"
   ]
  },
  {
   "cell_type": "code",
   "execution_count": 9,
   "metadata": {},
   "outputs": [
    {
     "data": {
      "text/plain": [
       "129"
      ]
     },
     "execution_count": 9,
     "metadata": {},
     "output_type": "execute_result"
    }
   ],
   "source": [
    "round(result[0])"
   ]
  }
 ],
 "metadata": {
  "kernelspec": {
   "display_name": "Tensorflow GPU",
   "language": "python",
   "name": "tensorflow"
  },
  "language_info": {
   "codemirror_mode": {
    "name": "ipython",
    "version": 3
   },
   "file_extension": ".py",
   "mimetype": "text/x-python",
   "name": "python",
   "nbconvert_exporter": "python",
   "pygments_lexer": "ipython3",
   "version": "3.7.6"
  }
 },
 "nbformat": 4,
 "nbformat_minor": 4
}
